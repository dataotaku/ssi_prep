{
 "cells": [
  {
   "cell_type": "markdown",
   "id": "632d8f66",
   "metadata": {},
   "source": [
    "# Datetime Range 객체 활용"
   ]
  },
  {
   "cell_type": "code",
   "execution_count": 24,
   "id": "8baa4558",
   "metadata": {},
   "outputs": [],
   "source": [
    "import os\n",
    "os.environ[\"MKL_NUM_THREADS\"] = \"1\" \n",
    "os.environ[\"NUMEXPR_NUM_THREADS\"] = \"1\" \n",
    "os.environ[\"OMP_NUM_THREADS\"] = \"1\" \n",
    "\n",
    "# 필요한 패키지 설치\n",
    "import pandas as pd\n",
    "import numpy as np\n",
    "import matplotlib.pyplot as plt\n",
    "from datetime import datetime\n",
    "from datetime import timedelta"
   ]
  },
  {
   "cell_type": "code",
   "execution_count": 3,
   "id": "5b1f7a39",
   "metadata": {},
   "outputs": [
    {
     "data": {
      "text/plain": [
       "DatetimeIndex(['2016-01-01', '2016-01-02', '2016-01-03', '2016-01-04',\n",
       "               '2016-01-05', '2016-01-06', '2016-01-07', '2016-01-08',\n",
       "               '2016-01-09', '2016-01-10',\n",
       "               ...\n",
       "               '2020-12-22', '2020-12-23', '2020-12-24', '2020-12-25',\n",
       "               '2020-12-26', '2020-12-27', '2020-12-28', '2020-12-29',\n",
       "               '2020-12-30', '2020-12-31'],\n",
       "              dtype='datetime64[ns]', length=1827, freq='D')"
      ]
     },
     "execution_count": 3,
     "metadata": {},
     "output_type": "execute_result"
    }
   ],
   "source": [
    "index = pd.date_range('2016-01-01', periods=365*5+2, freq='1D')\n",
    "index"
   ]
  },
  {
   "cell_type": "code",
   "execution_count": 4,
   "id": "b4d2e081",
   "metadata": {},
   "outputs": [],
   "source": [
    "dummy=pd.DataFrame({'data':[1]*(365*5+2)}, index=index)"
   ]
  },
  {
   "cell_type": "code",
   "execution_count": 6,
   "id": "ec656492",
   "metadata": {},
   "outputs": [
    {
     "data": {
      "text/html": [
       "<div>\n",
       "<style scoped>\n",
       "    .dataframe tbody tr th:only-of-type {\n",
       "        vertical-align: middle;\n",
       "    }\n",
       "\n",
       "    .dataframe tbody tr th {\n",
       "        vertical-align: top;\n",
       "    }\n",
       "\n",
       "    .dataframe thead th {\n",
       "        text-align: right;\n",
       "    }\n",
       "</style>\n",
       "<table border=\"1\" class=\"dataframe\">\n",
       "  <thead>\n",
       "    <tr style=\"text-align: right;\">\n",
       "      <th></th>\n",
       "      <th>data</th>\n",
       "    </tr>\n",
       "  </thead>\n",
       "  <tbody>\n",
       "    <tr>\n",
       "      <th>2016-01-01</th>\n",
       "      <td>1</td>\n",
       "    </tr>\n",
       "    <tr>\n",
       "      <th>2016-01-02</th>\n",
       "      <td>1</td>\n",
       "    </tr>\n",
       "    <tr>\n",
       "      <th>2016-01-03</th>\n",
       "      <td>1</td>\n",
       "    </tr>\n",
       "    <tr>\n",
       "      <th>2016-01-04</th>\n",
       "      <td>1</td>\n",
       "    </tr>\n",
       "    <tr>\n",
       "      <th>2016-01-05</th>\n",
       "      <td>1</td>\n",
       "    </tr>\n",
       "  </tbody>\n",
       "</table>\n",
       "</div>"
      ],
      "text/plain": [
       "            data\n",
       "2016-01-01     1\n",
       "2016-01-02     1\n",
       "2016-01-03     1\n",
       "2016-01-04     1\n",
       "2016-01-05     1"
      ]
     },
     "execution_count": 6,
     "metadata": {},
     "output_type": "execute_result"
    }
   ],
   "source": [
    "dummy.head()"
   ]
  },
  {
   "cell_type": "code",
   "execution_count": 10,
   "id": "6c315a91",
   "metadata": {},
   "outputs": [],
   "source": [
    "dummy['week_idx'] = index.to_period('W')"
   ]
  },
  {
   "cell_type": "code",
   "execution_count": 11,
   "id": "99902a73",
   "metadata": {},
   "outputs": [
    {
     "data": {
      "text/html": [
       "<div>\n",
       "<style scoped>\n",
       "    .dataframe tbody tr th:only-of-type {\n",
       "        vertical-align: middle;\n",
       "    }\n",
       "\n",
       "    .dataframe tbody tr th {\n",
       "        vertical-align: top;\n",
       "    }\n",
       "\n",
       "    .dataframe thead th {\n",
       "        text-align: right;\n",
       "    }\n",
       "</style>\n",
       "<table border=\"1\" class=\"dataframe\">\n",
       "  <thead>\n",
       "    <tr style=\"text-align: right;\">\n",
       "      <th></th>\n",
       "      <th>data</th>\n",
       "      <th>week_idx</th>\n",
       "    </tr>\n",
       "  </thead>\n",
       "  <tbody>\n",
       "    <tr>\n",
       "      <th>2016-01-01</th>\n",
       "      <td>1</td>\n",
       "      <td>2015-12-28/2016-01-03</td>\n",
       "    </tr>\n",
       "    <tr>\n",
       "      <th>2016-01-02</th>\n",
       "      <td>1</td>\n",
       "      <td>2015-12-28/2016-01-03</td>\n",
       "    </tr>\n",
       "    <tr>\n",
       "      <th>2016-01-03</th>\n",
       "      <td>1</td>\n",
       "      <td>2015-12-28/2016-01-03</td>\n",
       "    </tr>\n",
       "    <tr>\n",
       "      <th>2016-01-04</th>\n",
       "      <td>1</td>\n",
       "      <td>2016-01-04/2016-01-10</td>\n",
       "    </tr>\n",
       "    <tr>\n",
       "      <th>2016-01-05</th>\n",
       "      <td>1</td>\n",
       "      <td>2016-01-04/2016-01-10</td>\n",
       "    </tr>\n",
       "  </tbody>\n",
       "</table>\n",
       "</div>"
      ],
      "text/plain": [
       "            data               week_idx\n",
       "2016-01-01     1  2015-12-28/2016-01-03\n",
       "2016-01-02     1  2015-12-28/2016-01-03\n",
       "2016-01-03     1  2015-12-28/2016-01-03\n",
       "2016-01-04     1  2016-01-04/2016-01-10\n",
       "2016-01-05     1  2016-01-04/2016-01-10"
      ]
     },
     "execution_count": 11,
     "metadata": {},
     "output_type": "execute_result"
    }
   ],
   "source": [
    "dummy.head()"
   ]
  },
  {
   "cell_type": "code",
   "execution_count": 13,
   "id": "e8d6b516",
   "metadata": {},
   "outputs": [
    {
     "data": {
      "text/plain": [
       "pandas._libs.tslibs.period.Period"
      ]
     },
     "execution_count": 13,
     "metadata": {},
     "output_type": "execute_result"
    }
   ],
   "source": [
    "type(dummy['week_idx'][0])"
   ]
  },
  {
   "cell_type": "code",
   "execution_count": 14,
   "id": "79458c5e",
   "metadata": {},
   "outputs": [
    {
     "data": {
      "text/html": [
       "<div>\n",
       "<style scoped>\n",
       "    .dataframe tbody tr th:only-of-type {\n",
       "        vertical-align: middle;\n",
       "    }\n",
       "\n",
       "    .dataframe tbody tr th {\n",
       "        vertical-align: top;\n",
       "    }\n",
       "\n",
       "    .dataframe thead th {\n",
       "        text-align: right;\n",
       "    }\n",
       "</style>\n",
       "<table border=\"1\" class=\"dataframe\">\n",
       "  <thead>\n",
       "    <tr style=\"text-align: right;\">\n",
       "      <th></th>\n",
       "      <th>date</th>\n",
       "      <th>open</th>\n",
       "      <th>high</th>\n",
       "      <th>low</th>\n",
       "      <th>close</th>\n",
       "      <th>volume</th>\n",
       "      <th>Name</th>\n",
       "    </tr>\n",
       "  </thead>\n",
       "  <tbody>\n",
       "    <tr>\n",
       "      <th>0</th>\n",
       "      <td>2013-02-08</td>\n",
       "      <td>15.07</td>\n",
       "      <td>15.12</td>\n",
       "      <td>14.63</td>\n",
       "      <td>14.75</td>\n",
       "      <td>8407500</td>\n",
       "      <td>AAL</td>\n",
       "    </tr>\n",
       "    <tr>\n",
       "      <th>1</th>\n",
       "      <td>2013-02-11</td>\n",
       "      <td>14.89</td>\n",
       "      <td>15.01</td>\n",
       "      <td>14.26</td>\n",
       "      <td>14.46</td>\n",
       "      <td>8882000</td>\n",
       "      <td>AAL</td>\n",
       "    </tr>\n",
       "    <tr>\n",
       "      <th>2</th>\n",
       "      <td>2013-02-12</td>\n",
       "      <td>14.45</td>\n",
       "      <td>14.51</td>\n",
       "      <td>14.10</td>\n",
       "      <td>14.27</td>\n",
       "      <td>8126000</td>\n",
       "      <td>AAL</td>\n",
       "    </tr>\n",
       "    <tr>\n",
       "      <th>3</th>\n",
       "      <td>2013-02-13</td>\n",
       "      <td>14.30</td>\n",
       "      <td>14.94</td>\n",
       "      <td>14.25</td>\n",
       "      <td>14.66</td>\n",
       "      <td>10259500</td>\n",
       "      <td>AAL</td>\n",
       "    </tr>\n",
       "    <tr>\n",
       "      <th>4</th>\n",
       "      <td>2013-02-14</td>\n",
       "      <td>14.94</td>\n",
       "      <td>14.96</td>\n",
       "      <td>13.16</td>\n",
       "      <td>13.99</td>\n",
       "      <td>31879900</td>\n",
       "      <td>AAL</td>\n",
       "    </tr>\n",
       "  </tbody>\n",
       "</table>\n",
       "</div>"
      ],
      "text/plain": [
       "         date   open   high    low  close    volume Name\n",
       "0  2013-02-08  15.07  15.12  14.63  14.75   8407500  AAL\n",
       "1  2013-02-11  14.89  15.01  14.26  14.46   8882000  AAL\n",
       "2  2013-02-12  14.45  14.51  14.10  14.27   8126000  AAL\n",
       "3  2013-02-13  14.30  14.94  14.25  14.66  10259500  AAL\n",
       "4  2013-02-14  14.94  14.96  13.16  13.99  31879900  AAL"
      ]
     },
     "execution_count": 14,
     "metadata": {},
     "output_type": "execute_result"
    }
   ],
   "source": [
    "# read_csv() 함수로 파일 읽어와서 df로 변환\n",
    "df = pd.read_csv('./data/all_stocks_5yr.csv')\n",
    "df.head()"
   ]
  },
  {
   "cell_type": "code",
   "execution_count": 15,
   "id": "9285296b",
   "metadata": {},
   "outputs": [
    {
     "name": "stdout",
     "output_type": "stream",
     "text": [
      "<class 'pandas.core.frame.DataFrame'>\n",
      "RangeIndex: 619040 entries, 0 to 619039\n",
      "Data columns (total 7 columns):\n",
      " #   Column  Non-Null Count   Dtype  \n",
      "---  ------  --------------   -----  \n",
      " 0   date    619040 non-null  object \n",
      " 1   open    619029 non-null  float64\n",
      " 2   high    619032 non-null  float64\n",
      " 3   low     619032 non-null  float64\n",
      " 4   close   619040 non-null  float64\n",
      " 5   volume  619040 non-null  int64  \n",
      " 6   Name    619040 non-null  object \n",
      "dtypes: float64(4), int64(1), object(2)\n",
      "memory usage: 33.1+ MB\n"
     ]
    }
   ],
   "source": [
    "df.info()"
   ]
  },
  {
   "cell_type": "code",
   "execution_count": 17,
   "id": "45c01435",
   "metadata": {},
   "outputs": [
    {
     "data": {
      "text/html": [
       "<div>\n",
       "<style scoped>\n",
       "    .dataframe tbody tr th:only-of-type {\n",
       "        vertical-align: middle;\n",
       "    }\n",
       "\n",
       "    .dataframe tbody tr th {\n",
       "        vertical-align: top;\n",
       "    }\n",
       "\n",
       "    .dataframe thead th {\n",
       "        text-align: right;\n",
       "    }\n",
       "</style>\n",
       "<table border=\"1\" class=\"dataframe\">\n",
       "  <thead>\n",
       "    <tr style=\"text-align: right;\">\n",
       "      <th></th>\n",
       "      <th>date</th>\n",
       "      <th>open</th>\n",
       "      <th>high</th>\n",
       "      <th>low</th>\n",
       "      <th>close</th>\n",
       "      <th>volume</th>\n",
       "      <th>Name</th>\n",
       "    </tr>\n",
       "    <tr>\n",
       "      <th>dttm</th>\n",
       "      <th></th>\n",
       "      <th></th>\n",
       "      <th></th>\n",
       "      <th></th>\n",
       "      <th></th>\n",
       "      <th></th>\n",
       "      <th></th>\n",
       "    </tr>\n",
       "  </thead>\n",
       "  <tbody>\n",
       "    <tr>\n",
       "      <th>2013-02-08</th>\n",
       "      <td>2013-02-08</td>\n",
       "      <td>15.07</td>\n",
       "      <td>15.12</td>\n",
       "      <td>14.63</td>\n",
       "      <td>14.75</td>\n",
       "      <td>8407500</td>\n",
       "      <td>AAL</td>\n",
       "    </tr>\n",
       "    <tr>\n",
       "      <th>2013-02-11</th>\n",
       "      <td>2013-02-11</td>\n",
       "      <td>14.89</td>\n",
       "      <td>15.01</td>\n",
       "      <td>14.26</td>\n",
       "      <td>14.46</td>\n",
       "      <td>8882000</td>\n",
       "      <td>AAL</td>\n",
       "    </tr>\n",
       "    <tr>\n",
       "      <th>2013-02-12</th>\n",
       "      <td>2013-02-12</td>\n",
       "      <td>14.45</td>\n",
       "      <td>14.51</td>\n",
       "      <td>14.10</td>\n",
       "      <td>14.27</td>\n",
       "      <td>8126000</td>\n",
       "      <td>AAL</td>\n",
       "    </tr>\n",
       "    <tr>\n",
       "      <th>2013-02-13</th>\n",
       "      <td>2013-02-13</td>\n",
       "      <td>14.30</td>\n",
       "      <td>14.94</td>\n",
       "      <td>14.25</td>\n",
       "      <td>14.66</td>\n",
       "      <td>10259500</td>\n",
       "      <td>AAL</td>\n",
       "    </tr>\n",
       "    <tr>\n",
       "      <th>2013-02-14</th>\n",
       "      <td>2013-02-14</td>\n",
       "      <td>14.94</td>\n",
       "      <td>14.96</td>\n",
       "      <td>13.16</td>\n",
       "      <td>13.99</td>\n",
       "      <td>31879900</td>\n",
       "      <td>AAL</td>\n",
       "    </tr>\n",
       "  </tbody>\n",
       "</table>\n",
       "</div>"
      ],
      "text/plain": [
       "                  date   open   high    low  close    volume Name\n",
       "dttm                                                             \n",
       "2013-02-08  2013-02-08  15.07  15.12  14.63  14.75   8407500  AAL\n",
       "2013-02-11  2013-02-11  14.89  15.01  14.26  14.46   8882000  AAL\n",
       "2013-02-12  2013-02-12  14.45  14.51  14.10  14.27   8126000  AAL\n",
       "2013-02-13  2013-02-13  14.30  14.94  14.25  14.66  10259500  AAL\n",
       "2013-02-14  2013-02-14  14.94  14.96  13.16  13.99  31879900  AAL"
      ]
     },
     "execution_count": 17,
     "metadata": {},
     "output_type": "execute_result"
    }
   ],
   "source": [
    "# 문자열인 날짜 데이터를 판다스 Timestamp로 변환\n",
    "df['dttm'] = pd.to_datetime(df['date'])   # 새로운 열에 추가\n",
    "df.set_index('dttm', inplace=True)        # 행 인덱스로 지정\n",
    "df.head()"
   ]
  },
  {
   "cell_type": "code",
   "execution_count": 27,
   "id": "cd94062b",
   "metadata": {},
   "outputs": [
    {
     "name": "stdout",
     "output_type": "stream",
     "text": [
      "                  date   open   high    low  close   volume Name\n",
      "dttm                                                            \n",
      "2018-02-01  2018-02-01  76.84  78.27  76.69  77.82  2982259  ZTS\n",
      "2018-02-02  2018-02-02  77.53  78.12  76.73  76.78  2595187  ZTS\n",
      "2018-02-05  2018-02-05  76.64  76.92  73.18  73.83  2962031  ZTS\n",
      "2018-02-06  2018-02-06  72.74  74.56  72.13  73.27  4924323  ZTS\n",
      "2018-02-07  2018-02-07  72.70  75.00  72.69  73.86  4534912  ZTS\n"
     ]
    }
   ],
   "source": [
    "# 날짜 인덱스를 이용하여 데이터 선택하기\n",
    "df_y = df.loc['2018']\n",
    "print(df_y.tail())"
   ]
  },
  {
   "cell_type": "code",
   "execution_count": 30,
   "id": "e7e44145",
   "metadata": {},
   "outputs": [
    {
     "data": {
      "text/plain": [
       "DatetimeIndex(['2013-02-08', '2013-02-11', '2013-02-12', '2013-02-13',\n",
       "               '2013-02-14', '2013-02-15', '2013-02-19', '2013-02-20',\n",
       "               '2013-02-21', '2013-02-22',\n",
       "               ...\n",
       "               '2018-01-25', '2018-01-26', '2018-01-29', '2018-01-30',\n",
       "               '2018-01-31', '2018-02-01', '2018-02-02', '2018-02-05',\n",
       "               '2018-02-06', '2018-02-07'],\n",
       "              dtype='datetime64[ns]', name='dttm', length=619040, freq=None)"
      ]
     },
     "execution_count": 30,
     "metadata": {},
     "output_type": "execute_result"
    }
   ],
   "source": [
    "df.index"
   ]
  },
  {
   "cell_type": "code",
   "execution_count": 66,
   "id": "d2f7774a",
   "metadata": {},
   "outputs": [
    {
     "name": "stdout",
     "output_type": "stream",
     "text": [
      "PeriodIndex(['2017-12-21', '2017-12-22', '2017-12-23', '2017-12-24',\n",
      "             '2017-12-25', '2017-12-26', '2017-12-27', '2017-12-28',\n",
      "             '2017-12-29', '2017-12-30', '2017-12-31'],\n",
      "            dtype='period[D]')\n",
      "PeriodIndex(['2018-01-01', '2018-01-02', '2018-01-03', '2018-01-04',\n",
      "             '2018-01-05', '2018-01-06', '2018-01-07', '2018-01-08',\n",
      "             '2018-01-09', '2018-01-10', '2018-01-11'],\n",
      "            dtype='period[D]')\n",
      "dttm\n",
      "2017-12-21    176.020\n",
      "2017-12-22    175.424\n",
      "2017-12-26    171.470\n",
      "2017-12-27    170.780\n",
      "2017-12-28    171.850\n",
      "2017-12-29    170.590\n",
      "Name: high, dtype: float64\n",
      "dttm\n",
      "2018-01-02    172.3000\n",
      "2018-01-03    174.5500\n",
      "2018-01-04    173.4700\n",
      "2018-01-05    175.3700\n",
      "2018-01-08    175.6100\n",
      "2018-01-09    175.0600\n",
      "2018-01-10    174.3000\n",
      "2018-01-11    175.4886\n",
      "Name: high, dtype: float64\n"
     ]
    }
   ],
   "source": [
    "before_range = pd.period_range(start = today - timedelta(days=11),\n",
    "             end = today - timedelta(days=1))\n",
    "after_range = pd.period_range(start = today,\n",
    "                             end = today + timedelta(days=10))\n",
    "df_y = df_y[df_y['Name'] == 'AAPL']\n",
    "\n",
    "print(before_range)\n",
    "print(after_range)\n",
    "\n",
    "before_data = df_y[df_y.index.isin(before_range.to_timestamp())]['high']\n",
    "print(before_data)\n",
    "after_data = df_y[df_y.index.isin(after_range.to_timestamp())]['high']\n",
    "print(after_data)"
   ]
  },
  {
   "cell_type": "code",
   "execution_count": 67,
   "id": "710a9c97",
   "metadata": {},
   "outputs": [],
   "source": [
    "from scipy import stats\n",
    "from scipy.stats import ttest_ind"
   ]
  },
  {
   "cell_type": "code",
   "execution_count": 68,
   "id": "1999d2cb",
   "metadata": {},
   "outputs": [
    {
     "data": {
      "text/plain": [
       "BartlettResult(statistic=2.906108803590229, pvalue=0.08824454955208097)"
      ]
     },
     "execution_count": 68,
     "metadata": {},
     "output_type": "execute_result"
    }
   ],
   "source": [
    "stats.bartlett(before_data, after_data) # 귀무가설 등분산이다. 기각하지 못하면 등분산이라고 보아도 되는 것이다."
   ]
  },
  {
   "cell_type": "code",
   "execution_count": 69,
   "id": "0d0044c9",
   "metadata": {},
   "outputs": [],
   "source": [
    "# ttest_ind(before_data, after_data) # default equal variance"
   ]
  },
  {
   "cell_type": "code",
   "execution_count": 70,
   "id": "fe7423e2",
   "metadata": {},
   "outputs": [
    {
     "data": {
      "text/plain": [
       "Ttest_indResult(statistic=-1.9028221426182836, pvalue=0.08132610986278331)"
      ]
     },
     "execution_count": 70,
     "metadata": {},
     "output_type": "execute_result"
    }
   ],
   "source": [
    "if stats.bartlett(before_data, after_data)[1] >= 0.05:\n",
    "    homoschedasty = True\n",
    "else:\n",
    "    homoschedasty = False\n",
    "ttest_ind(before_data, after_data, equal_var=homoschedasty) # welch's t-test\n",
    "# return (1.4927289925706944, 0.16970867501294376) t-statistic and p-value"
   ]
  },
  {
   "cell_type": "code",
   "execution_count": null,
   "id": "98fe630a",
   "metadata": {},
   "outputs": [],
   "source": []
  },
  {
   "cell_type": "code",
   "execution_count": null,
   "id": "94eac952",
   "metadata": {},
   "outputs": [],
   "source": []
  }
 ],
 "metadata": {
  "kernelspec": {
   "display_name": "Python 3 (ipykernel)",
   "language": "python",
   "name": "python3"
  },
  "language_info": {
   "codemirror_mode": {
    "name": "ipython",
    "version": 3
   },
   "file_extension": ".py",
   "mimetype": "text/x-python",
   "name": "python",
   "nbconvert_exporter": "python",
   "pygments_lexer": "ipython3",
   "version": "3.9.13"
  }
 },
 "nbformat": 4,
 "nbformat_minor": 5
}
