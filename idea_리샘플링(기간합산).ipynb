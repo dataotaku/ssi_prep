{
 "cells": [
  {
   "cell_type": "markdown",
   "id": "632d8f66",
   "metadata": {},
   "source": [
    "# 시계열 데이터 resampling\n",
    "https://wikidocs.net/158101"
   ]
  },
  {
   "cell_type": "code",
   "execution_count": 1,
   "id": "8baa4558",
   "metadata": {},
   "outputs": [],
   "source": [
    "import os\n",
    "os.environ[\"MKL_NUM_THREADS\"] = \"1\" \n",
    "os.environ[\"NUMEXPR_NUM_THREADS\"] = \"1\" \n",
    "os.environ[\"OMP_NUM_THREADS\"] = \"1\" \n",
    "\n",
    "# 필요한 패키지 설치\n",
    "import pandas as pd\n",
    "import numpy as np"
   ]
  },
  {
   "cell_type": "code",
   "execution_count": 3,
   "id": "901852c8",
   "metadata": {},
   "outputs": [
    {
     "name": "stdout",
     "output_type": "stream",
     "text": [
      "                     col  col1\n",
      "2021-12-30 00:00:00    0     9\n",
      "2021-12-30 00:01:00    1     8\n",
      "2021-12-30 00:02:00    2     7\n",
      "2021-12-30 00:03:00    3     6\n",
      "2021-12-30 00:04:00    4     5\n",
      "2021-12-30 00:05:00    5     4\n",
      "2021-12-30 00:06:00    6     3\n",
      "2021-12-30 00:07:00    7     2\n",
      "2021-12-30 00:08:00    8     1\n",
      "2021-12-30 00:09:00    9     0\n"
     ]
    }
   ],
   "source": [
    "idx = pd.date_range('2021-12-30',periods=10,freq='min')\n",
    "# 2021-12-30일기준으로 1분간격의 10개의 행 생성\n",
    "df = pd.DataFrame(index=idx, data=[0,1,2,3,4,5,6,7,8,9],columns=['col'])\n",
    "df['col1'] = [9,8,7,6,5,4,3,2,1,0]\n",
    "print(df)"
   ]
  },
  {
   "cell_type": "code",
   "execution_count": 4,
   "id": "e4424aa7",
   "metadata": {},
   "outputs": [
    {
     "name": "stdout",
     "output_type": "stream",
     "text": [
      "                     col  col1\n",
      "2021-12-30 00:00:00    3    24\n",
      "2021-12-30 00:03:00   12    15\n",
      "2021-12-30 00:06:00   21     6\n",
      "2021-12-30 00:09:00    9     0\n"
     ]
    }
   ],
   "source": [
    "print(df.resample(rule='3T').sum()) # 뒤에 .sum()을 붙여주어서 합쳐질 열의 값을 더해줍니다."
   ]
  },
  {
   "cell_type": "code",
   "execution_count": 6,
   "id": "549cd72b",
   "metadata": {},
   "outputs": [
    {
     "name": "stdout",
     "output_type": "stream",
     "text": [
      "2021-12-30 00:00:00    24\n",
      "2021-12-30 00:03:00    15\n",
      "2021-12-30 00:06:00     6\n",
      "2021-12-30 00:09:00     0\n",
      "Freq: 3T, Name: col1, dtype: int64\n"
     ]
    }
   ],
   "source": [
    "print(df.resample(rule='3T')['col1'].sum())"
   ]
  },
  {
   "cell_type": "code",
   "execution_count": 7,
   "id": "384b87d2",
   "metadata": {},
   "outputs": [
    {
     "name": "stdout",
     "output_type": "stream",
     "text": [
      "                     col  col1\n",
      "2021-12-30 00:00:00    3    24\n",
      "2021-12-30 00:03:00   12    15\n",
      "2021-12-30 00:06:00   21     6\n",
      "2021-12-30 00:09:00    9     0\n"
     ]
    }
   ],
   "source": [
    "print(df.resample(rule='3T',closed='left').sum())"
   ]
  },
  {
   "cell_type": "code",
   "execution_count": 8,
   "id": "b2bbe9f7",
   "metadata": {},
   "outputs": [
    {
     "name": "stdout",
     "output_type": "stream",
     "text": [
      "                     col  col1\n",
      "2021-12-29 23:57:00    0     9\n",
      "2021-12-30 00:00:00    6    21\n",
      "2021-12-30 00:03:00   15    12\n",
      "2021-12-30 00:06:00   24     3\n"
     ]
    }
   ],
   "source": [
    "print(df.resample(rule='3T',closed='right').sum())"
   ]
  },
  {
   "cell_type": "code",
   "execution_count": null,
   "id": "2efc7688",
   "metadata": {},
   "outputs": [],
   "source": []
  },
  {
   "cell_type": "code",
   "execution_count": null,
   "id": "1e9e8361",
   "metadata": {},
   "outputs": [],
   "source": []
  },
  {
   "cell_type": "code",
   "execution_count": null,
   "id": "f4d81b07",
   "metadata": {},
   "outputs": [],
   "source": []
  }
 ],
 "metadata": {
  "kernelspec": {
   "display_name": "Python 3 (ipykernel)",
   "language": "python",
   "name": "python3"
  },
  "language_info": {
   "codemirror_mode": {
    "name": "ipython",
    "version": 3
   },
   "file_extension": ".py",
   "mimetype": "text/x-python",
   "name": "python",
   "nbconvert_exporter": "python",
   "pygments_lexer": "ipython3",
   "version": "3.9.13"
  }
 },
 "nbformat": 4,
 "nbformat_minor": 5
}
